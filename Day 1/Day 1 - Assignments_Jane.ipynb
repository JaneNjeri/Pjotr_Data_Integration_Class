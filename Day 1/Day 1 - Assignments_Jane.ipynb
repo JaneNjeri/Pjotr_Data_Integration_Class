{
 "cells": [
  {
   "cell_type": "markdown",
   "metadata": {},
   "source": [
    "# Copy this file to your own folder to do your assignment"
   ]
  },
  {
   "cell_type": "markdown",
   "metadata": {},
   "source": [
    "Remember: you get points for originality"
   ]
  },
  {
   "cell_type": "markdown",
   "metadata": {},
   "source": [
    "# Assignment 1.1"
   ]
  },
  {
   "cell_type": "markdown",
   "metadata": {},
   "source": [
    "Create a tabular data file or find one on the internet and load it into your SQL database in your folder (make sure not to share with others!). Execute a SQL SELECT statement in this notebook"
   ]
  },
  {
   "cell_type": "code",
   "execution_count": 1,
   "metadata": {},
   "outputs": [],
   "source": [
    "import sqlite3\n",
    "\n",
    "connection = sqlite3.connect('Jdata.db')\n",
    "cursor = connection.cursor()\n",
    "\n",
    "#creating table\n",
    "cursor.execute('''CREATE TABLE Employees (StaffNo text, Fname text, Lname text, Position text, Salary real)''')\n",
    "\n",
    "#inserting into table\n",
    "cursor.execute(\"\"\"INSERT INTO Employees VALUES \n",
    "                ('322', 'Bobo', 'Baggins', 'Hobbit', 12000),\n",
    "                ('222', 'Red', 'Doe', 'CEO', 30000), \n",
    "                ('260', 'Julie', 'Jones', 'Tax Shelter', 20000),\n",
    "                ('360', 'Don', 'Michaels', 'Driver', 10000),\n",
    "                ('290', 'Red', 'Jones', 'Cleaner', 10000),\n",
    "                ('300', 'Ronnie', 'Baggins', 'Doctor', 25000),\n",
    "                ('280', 'John', 'Endow', 'Manager', 15000)\"\"\")\n",
    "\n",
    "connection.commit()"
   ]
  },
  {
   "cell_type": "code",
   "execution_count": 2,
   "metadata": {},
   "outputs": [
    {
     "name": "stdout",
     "output_type": "stream",
     "text": [
      "('322', 'Bobo', 'Baggins', 'Hobbit', 12000.0)\n",
      "('222', 'Red', 'Doe', 'CEO', 30000.0)\n",
      "('260', 'Julie', 'Jones', 'Tax Shelter', 20000.0)\n",
      "('360', 'Don', 'Michaels', 'Driver', 10000.0)\n",
      "('290', 'Red', 'Jones', 'Cleaner', 10000.0)\n",
      "('300', 'Ronnie', 'Baggins', 'Doctor', 25000.0)\n",
      "('280', 'John', 'Endow', 'Manager', 15000.0)\n"
     ]
    }
   ],
   "source": [
    "for i in cursor.execute('SELECT * FROM Employees'):\n",
    "    print(i)\n",
    "    \n",
    "# cursor.close()"
   ]
  },
  {
   "cell_type": "code",
   "execution_count": 3,
   "metadata": {},
   "outputs": [
    {
     "name": "stdout",
     "output_type": "stream",
     "text": [
      "('Bobo', 'Hobbit', 12000.0)\n",
      "('Red', 'CEO', 30000.0)\n",
      "('Julie', 'Tax Shelter', 20000.0)\n",
      "('Don', 'Driver', 10000.0)\n",
      "('Red', 'Cleaner', 10000.0)\n",
      "('Ronnie', 'Doctor', 25000.0)\n",
      "('John', 'Manager', 15000.0)\n"
     ]
    }
   ],
   "source": [
    "for i in cursor.execute('SELECT Fname, Position, Salary FROM Employees'):\n",
    "    print(i)"
   ]
  },
  {
   "cell_type": "markdown",
   "metadata": {},
   "source": [
    "# Assignment 1.2"
   ]
  },
  {
   "cell_type": "markdown",
   "metadata": {},
   "source": [
    "Go through the [SQLite examples](https://www.sqlitetutorial.net/) and use a WHERE statement on your data"
   ]
  },
  {
   "cell_type": "code",
   "execution_count": 4,
   "metadata": {},
   "outputs": [
    {
     "name": "stdout",
     "output_type": "stream",
     "text": [
      "('Julie', 'Tax Shelter', 20000.0)\n",
      "('John', 'Manager', 15000.0)\n"
     ]
    }
   ],
   "source": [
    "for i in cursor.execute('SELECT Fname, Position, Salary FROM Employees WHERE Salary BETWEEN 15000 AND 20000'):\n",
    "    print(i)"
   ]
  },
  {
   "cell_type": "markdown",
   "metadata": {},
   "source": [
    "# Assignment 1.3\n"
   ]
  },
  {
   "cell_type": "markdown",
   "metadata": {},
   "source": [
    "Load your data into pandas and show an example of counting and filtering. Also add another example from https://likegeeks.com/pandas-tutorial/"
   ]
  },
  {
   "cell_type": "code",
   "execution_count": 5,
   "metadata": {},
   "outputs": [],
   "source": [
    "import pandas"
   ]
  },
  {
   "cell_type": "code",
   "execution_count": 6,
   "metadata": {},
   "outputs": [
    {
     "data": {
      "text/html": [
       "<div>\n",
       "<style scoped>\n",
       "    .dataframe tbody tr th:only-of-type {\n",
       "        vertical-align: middle;\n",
       "    }\n",
       "\n",
       "    .dataframe tbody tr th {\n",
       "        vertical-align: top;\n",
       "    }\n",
       "\n",
       "    .dataframe thead th {\n",
       "        text-align: right;\n",
       "    }\n",
       "</style>\n",
       "<table border=\"1\" class=\"dataframe\">\n",
       "  <thead>\n",
       "    <tr style=\"text-align: right;\">\n",
       "      <th></th>\n",
       "      <th>StaffNo</th>\n",
       "      <th>Fname</th>\n",
       "      <th>Lname</th>\n",
       "      <th>Position</th>\n",
       "      <th>Salary</th>\n",
       "    </tr>\n",
       "  </thead>\n",
       "  <tbody>\n",
       "    <tr>\n",
       "      <th>0</th>\n",
       "      <td>322</td>\n",
       "      <td>Bobo</td>\n",
       "      <td>Baggins</td>\n",
       "      <td>Hobbit</td>\n",
       "      <td>12000.0</td>\n",
       "    </tr>\n",
       "    <tr>\n",
       "      <th>1</th>\n",
       "      <td>222</td>\n",
       "      <td>Red</td>\n",
       "      <td>Doe</td>\n",
       "      <td>CEO</td>\n",
       "      <td>30000.0</td>\n",
       "    </tr>\n",
       "    <tr>\n",
       "      <th>2</th>\n",
       "      <td>260</td>\n",
       "      <td>Julie</td>\n",
       "      <td>Jones</td>\n",
       "      <td>Tax Shelter</td>\n",
       "      <td>20000.0</td>\n",
       "    </tr>\n",
       "    <tr>\n",
       "      <th>3</th>\n",
       "      <td>360</td>\n",
       "      <td>Don</td>\n",
       "      <td>Michaels</td>\n",
       "      <td>Driver</td>\n",
       "      <td>10000.0</td>\n",
       "    </tr>\n",
       "    <tr>\n",
       "      <th>4</th>\n",
       "      <td>290</td>\n",
       "      <td>Red</td>\n",
       "      <td>Jones</td>\n",
       "      <td>Cleaner</td>\n",
       "      <td>10000.0</td>\n",
       "    </tr>\n",
       "    <tr>\n",
       "      <th>5</th>\n",
       "      <td>300</td>\n",
       "      <td>Ronnie</td>\n",
       "      <td>Baggins</td>\n",
       "      <td>Doctor</td>\n",
       "      <td>25000.0</td>\n",
       "    </tr>\n",
       "    <tr>\n",
       "      <th>6</th>\n",
       "      <td>280</td>\n",
       "      <td>John</td>\n",
       "      <td>Endow</td>\n",
       "      <td>Manager</td>\n",
       "      <td>15000.0</td>\n",
       "    </tr>\n",
       "  </tbody>\n",
       "</table>\n",
       "</div>"
      ],
      "text/plain": [
       "  StaffNo   Fname     Lname     Position   Salary\n",
       "0     322    Bobo   Baggins       Hobbit  12000.0\n",
       "1     222     Red       Doe          CEO  30000.0\n",
       "2     260   Julie     Jones  Tax Shelter  20000.0\n",
       "3     360     Don  Michaels       Driver  10000.0\n",
       "4     290     Red     Jones      Cleaner  10000.0\n",
       "5     300  Ronnie   Baggins       Doctor  25000.0\n",
       "6     280    John     Endow      Manager  15000.0"
      ]
     },
     "execution_count": 6,
     "metadata": {},
     "output_type": "execute_result"
    }
   ],
   "source": [
    "conn = sqlite3.connect('Jdata.db')\n",
    "\n",
    "pandas.read_sql('SELECT * FROM Employees', conn)"
   ]
  },
  {
   "cell_type": "code",
   "execution_count": 7,
   "metadata": {},
   "outputs": [
    {
     "data": {
      "text/html": [
       "<div>\n",
       "<style scoped>\n",
       "    .dataframe tbody tr th:only-of-type {\n",
       "        vertical-align: middle;\n",
       "    }\n",
       "\n",
       "    .dataframe tbody tr th {\n",
       "        vertical-align: top;\n",
       "    }\n",
       "\n",
       "    .dataframe thead th {\n",
       "        text-align: right;\n",
       "    }\n",
       "</style>\n",
       "<table border=\"1\" class=\"dataframe\">\n",
       "  <thead>\n",
       "    <tr style=\"text-align: right;\">\n",
       "      <th></th>\n",
       "      <th>Fname</th>\n",
       "      <th>Position</th>\n",
       "    </tr>\n",
       "  </thead>\n",
       "  <tbody>\n",
       "    <tr>\n",
       "      <th>0</th>\n",
       "      <td>Ronnie</td>\n",
       "      <td>Doctor</td>\n",
       "    </tr>\n",
       "    <tr>\n",
       "      <th>1</th>\n",
       "      <td>Red</td>\n",
       "      <td>CEO</td>\n",
       "    </tr>\n",
       "    <tr>\n",
       "      <th>2</th>\n",
       "      <td>Julie</td>\n",
       "      <td>Tax Shelter</td>\n",
       "    </tr>\n",
       "  </tbody>\n",
       "</table>\n",
       "</div>"
      ],
      "text/plain": [
       "    Fname     Position\n",
       "0  Ronnie       Doctor\n",
       "1     Red          CEO\n",
       "2   Julie  Tax Shelter"
      ]
     },
     "execution_count": 7,
     "metadata": {},
     "output_type": "execute_result"
    }
   ],
   "source": [
    "#counting and filtering\n",
    "pandas.read_sql('SELECT Fname, Position FROM Employees WHERE Salary > 10000 ORDER BY Fname DESC LIMIT 3', conn)"
   ]
  },
  {
   "cell_type": "code",
   "execution_count": null,
   "metadata": {},
   "outputs": [],
   "source": [
    "pandas.read_sql('SELECT Fname FROM Employees JOIN Employees ON Position WHERE Salary == 10000', conn)"
   ]
  },
  {
   "cell_type": "markdown",
   "metadata": {},
   "source": [
    "# Assignment 1.4"
   ]
  },
  {
   "cell_type": "markdown",
   "metadata": {},
   "source": [
    "Create a beautiful plot using your data and pandas"
   ]
  },
  {
   "cell_type": "code",
   "execution_count": 8,
   "metadata": {},
   "outputs": [
    {
     "data": {
      "text/html": [
       "<div>\n",
       "<style scoped>\n",
       "    .dataframe tbody tr th:only-of-type {\n",
       "        vertical-align: middle;\n",
       "    }\n",
       "\n",
       "    .dataframe tbody tr th {\n",
       "        vertical-align: top;\n",
       "    }\n",
       "\n",
       "    .dataframe thead th {\n",
       "        text-align: right;\n",
       "    }\n",
       "</style>\n",
       "<table border=\"1\" class=\"dataframe\">\n",
       "  <thead>\n",
       "    <tr style=\"text-align: right;\">\n",
       "      <th></th>\n",
       "      <th>StaffNo</th>\n",
       "      <th>Fname</th>\n",
       "      <th>Lname</th>\n",
       "      <th>Position</th>\n",
       "      <th>Salary</th>\n",
       "    </tr>\n",
       "  </thead>\n",
       "  <tbody>\n",
       "    <tr>\n",
       "      <th>0</th>\n",
       "      <td>322</td>\n",
       "      <td>Bobo</td>\n",
       "      <td>Baggins</td>\n",
       "      <td>Hobbit</td>\n",
       "      <td>12000.0</td>\n",
       "    </tr>\n",
       "    <tr>\n",
       "      <th>1</th>\n",
       "      <td>222</td>\n",
       "      <td>Red</td>\n",
       "      <td>Doe</td>\n",
       "      <td>CEO</td>\n",
       "      <td>30000.0</td>\n",
       "    </tr>\n",
       "    <tr>\n",
       "      <th>2</th>\n",
       "      <td>260</td>\n",
       "      <td>Julie</td>\n",
       "      <td>Jones</td>\n",
       "      <td>Tax Shelter</td>\n",
       "      <td>20000.0</td>\n",
       "    </tr>\n",
       "    <tr>\n",
       "      <th>3</th>\n",
       "      <td>360</td>\n",
       "      <td>Don</td>\n",
       "      <td>Michaels</td>\n",
       "      <td>Driver</td>\n",
       "      <td>10000.0</td>\n",
       "    </tr>\n",
       "    <tr>\n",
       "      <th>4</th>\n",
       "      <td>290</td>\n",
       "      <td>Red</td>\n",
       "      <td>Jones</td>\n",
       "      <td>Cleaner</td>\n",
       "      <td>10000.0</td>\n",
       "    </tr>\n",
       "    <tr>\n",
       "      <th>5</th>\n",
       "      <td>300</td>\n",
       "      <td>Ronnie</td>\n",
       "      <td>Baggins</td>\n",
       "      <td>Doctor</td>\n",
       "      <td>25000.0</td>\n",
       "    </tr>\n",
       "    <tr>\n",
       "      <th>6</th>\n",
       "      <td>280</td>\n",
       "      <td>John</td>\n",
       "      <td>Endow</td>\n",
       "      <td>Manager</td>\n",
       "      <td>15000.0</td>\n",
       "    </tr>\n",
       "  </tbody>\n",
       "</table>\n",
       "</div>"
      ],
      "text/plain": [
       "  StaffNo   Fname     Lname     Position   Salary\n",
       "0     322    Bobo   Baggins       Hobbit  12000.0\n",
       "1     222     Red       Doe          CEO  30000.0\n",
       "2     260   Julie     Jones  Tax Shelter  20000.0\n",
       "3     360     Don  Michaels       Driver  10000.0\n",
       "4     290     Red     Jones      Cleaner  10000.0\n",
       "5     300  Ronnie   Baggins       Doctor  25000.0\n",
       "6     280    John     Endow      Manager  15000.0"
      ]
     },
     "execution_count": 8,
     "metadata": {},
     "output_type": "execute_result"
    }
   ],
   "source": [
    "df = pandas.read_sql('SELECT * FROM Employees', conn)\n",
    "df"
   ]
  },
  {
   "cell_type": "code",
   "execution_count": 9,
   "metadata": {},
   "outputs": [],
   "source": [
    "import matplotlib.pyplot as plt"
   ]
  },
  {
   "cell_type": "code",
   "execution_count": 10,
   "metadata": {},
   "outputs": [
    {
     "data": {
      "image/png": "[encoded data removed]",
      "text/plain": [
       "<Figure size 432x288 with 1 Axes>"
      ]
     },
     "metadata": {
      "needs_background": "light"
     },
     "output_type": "display_data"
    }
   ],
   "source": [
    "df.plot(kind='bar',x='Fname',y='Salary',color='red')\n",
    "plt.show()"
   ]
  },
  {
   "cell_type": "code",
   "execution_count": null,
   "metadata": {},
   "outputs": [],
   "source": []
  }
 ],
 "metadata": {
  "kernelspec": {
   "display_name": "Python 3",
   "language": "/gnu/store/m4kgg8z52kn6xspmd3brvivd129d4i3s-python-wrapper-3.7.4/bin/python",
   "name": "python3"
  },
  "language_info": {
   "codemirror_mode": {
    "name": "ipython",
    "version": 3
   },
   "file_extension": ".py",
   "mimetype": "text/x-python",
   "name": "python",
   "nbconvert_exporter": "python",
   "pygments_lexer": "ipython3",
   "version": "3.7.4"
  }
 },
 "nbformat": 4,
 "nbformat_minor": 2
}
