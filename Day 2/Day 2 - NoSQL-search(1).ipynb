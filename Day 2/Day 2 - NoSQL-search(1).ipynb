{
 "cells": [
  {
   "cell_type": "markdown",
   "metadata": {},
   "source": [
    "# Examples of using NoSQL from within python\n"
   ]
  },
  {
   "cell_type": "markdown",
   "metadata": {},
   "source": [
    "echo and curl are Unix command line tools which can be used in a terminal and in a notebook\n"
   ]
  },
  {
   "cell_type": "code",
   "execution_count": 33,
   "metadata": {},
   "outputs": [
    {
     "name": "stdout",
     "output_type": "stream",
     "text": [
      "hello\r\n"
     ]
    }
   ],
   "source": [
    "!echo hello\n"
   ]
  },
  {
   "cell_type": "code",
   "execution_count": 34,
   "metadata": {},
   "outputs": [
    {
     "name": "stdout",
     "output_type": "stream",
     "text": [
      "{\r\n",
      "  \"name\" : \"se8cAlp\",\r\n",
      "  \"cluster_name\" : \"elasticsearch\",\r\n",
      "  \"cluster_uuid\" : \"mlgkPjOoQDaRZe8KZ_mKkw\",\r\n",
      "  \"version\" : {\r\n",
      "    \"number\" : \"6.2.1\",\r\n",
      "    \"build_hash\" : \"7299dc3\",\r\n",
      "    \"build_date\" : \"2018-02-07T19:34:26.990113Z\",\r\n",
      "    \"build_snapshot\" : false,\r\n",
      "    \"lucene_version\" : \"7.2.1\",\r\n",
      "    \"minimum_wire_compatibility_version\" : \"5.6.0\",\r\n",
      "    \"minimum_index_compatibility_version\" : \"5.0.0\"\r\n",
      "  },\r\n",
      "  \"tagline\" : \"You Know, for Search\"\r\n",
      "}\r\n"
     ]
    }
   ],
   "source": [
    "!curl http://127.0.0.1:9200"
   ]
  },
  {
   "cell_type": "code",
   "execution_count": 0,
   "metadata": {},
   "outputs": [],
   "source": [
    "#!curl \"http://togows.org/entry/ebi-uniprot/A1AG1_HUMAN.json\""
   ]
  },
  {
   "cell_type": "code",
   "execution_count": 36,
   "metadata": {},
   "outputs": [],
   "source": [
    "import requests\n",
    "import json"
   ]
  },
  {
   "cell_type": "code",
   "execution_count": 39,
   "metadata": {
    "scrolled": true
   },
   "outputs": [
    {
     "name": "stdout",
     "output_type": "stream",
     "text": [
      "[\n",
      "  {\n",
      "    \"entry_id\": \"map00030\",\n",
      "    \"name\": \"Pentose phosphate pathway\",\n",
      "    \"description\": \"The pentose phosphate pathway is a process of glucose turnover that produces NADPH as reducing equivalents and pentoses as essential parts of nucleotides. There are two different phases in the pathway. One is irreversible oxidative phase in which glucose-6P is converted to ribulose-5P by oxidative decarboxylation, and NADPH is generated [MD:M00006]. The other is reversible non-oxidative phase in which phosphorylated sugars are interconverted to generate xylulose-5P, ribulose-5P, and ribose-5P [MD:M00007]. Phosphoribosyl pyrophosphate (PRPP) formed from ribose-5P [MD:M00005] is an activated compound used in the biosynthesis of histidine and purine/pyrimidine nucleotides. This pathway map also shows the Entner-Doudoroff pathway where 6-P-gluconate is dehydrated and then cleaved into pyruvate and glyceraldehyde-3P [MD:M00008].\",\n",
      "    \"classes\": [\n",
      "      \"Metabolism\",\n",
      "      \"Carbohydrate metabolism\"\n",
      "    ],\n",
      "    \"diseases\": {\n",
      "      \"H00196\": \"Phosphoribosylpyrophosphate synthetase superactivity\",\n",
      "      \"H00668\": \"Anemia due to disorders of glutathione metabolism\",\n",
      "      \"H00946\": \"Arts syndrome\",\n",
      "      \"H01111\": \"Cortisone reductase deficiency\",\n",
      "      \"H01135\": \"Ribose 5-phosphate isomerase deficiency\",\n",
      "      \"H01189\": \"Transaldolase deficiency\",\n",
      "      \"H01375\": \"Glucose 6-phosphate dehydrogenase deficiency\",\n",
      "      \"H01952\": \"Glycogen storage disease type XII\"\n",
      "    },\n",
      "    \"dblinks\": {\n",
      "      \"GO\": [\n",
      "        \"0006098\"\n",
      "      ]\n",
      "    },\n",
      "    \"pathways\": {\n",
      "      \"map00030\": \"Pentose phosphate pathway\"\n",
      "    },\n",
      "    \"orthologs\": {\n",
      "    },\n",
      "    \"references\": [\n",
      "      {\n",
      "        \"authors\": [\n",
      "          \"Nishizuka Y (ed).\"\n",
      "        ],\n",
      "        \"title\": \"[Metabolic Maps] (In Japanese)\",\n",
      "        \"journal\": \"Tokyo Kagaku Dojin\",\n",
      "        \"volume\": \"\",\n",
      "        \"issue\": \"\",\n",
      "        \"pages\": \"\",\n",
      "        \"year\": \"1980\",\n",
      "        \"pubmed\": \"\",\n",
      "        \"medline\": \"\",\n",
      "        \"doi\": null,\n",
      "        \"abstract\": \"\",\n",
      "        \"url\": null,\n",
      "        \"mesh\": [\n",
      "\n",
      "        ],\n",
      "        \"embl_gb_record_number\": null,\n",
      "        \"sequence_position\": null,\n",
      "        \"comments\": [\n",
      "          \"(map 3)\"\n",
      "        ],\n",
      "        \"affiliations\": [\n",
      "\n",
      "        ]\n",
      "      },\n",
      "      {\n",
      "        \"authors\": [\n",
      "          \"Nishizuka Y\",\n",
      "          \"Seyama Y\",\n",
      "          \"Ikai A\",\n",
      "          \"Ishimura Y\",\n",
      "          \"Kawaguchi A (eds).\"\n",
      "        ],\n",
      "        \"title\": \"[Cellular Functions and Metabolic Maps] (In Japanese)\",\n",
      "        \"journal\": \"Tokyo Kagaku Dojin\",\n",
      "        \"volume\": \"\",\n",
      "        \"issue\": \"\",\n",
      "        \"pages\": \"\",\n",
      "        \"year\": \"1997\",\n",
      "        \"pubmed\": \"\",\n",
      "        \"medline\": \"\",\n",
      "        \"doi\": null,\n",
      "        \"abstract\": \"\",\n",
      "        \"url\": null,\n",
      "        \"mesh\": [\n",
      "\n",
      "        ],\n",
      "        \"embl_gb_record_number\": null,\n",
      "        \"sequence_position\": null,\n",
      "        \"comments\": [\n",
      "          \"(map 4)\"\n",
      "        ],\n",
      "        \"affiliations\": [\n",
      "\n",
      "        ]\n",
      "      },\n",
      "      {\n",
      "        \"authors\": [\n",
      "          \"Michal G.\"\n",
      "        ],\n",
      "        \"title\": \"Biochemical Pathways\",\n",
      "        \"journal\": \"Wiley\",\n",
      "        \"volume\": \"\",\n",
      "        \"issue\": \"\",\n",
      "        \"pages\": \"\",\n",
      "        \"year\": \"1999\",\n",
      "        \"pubmed\": \"\",\n",
      "        \"medline\": \"\",\n",
      "        \"doi\": null,\n",
      "        \"abstract\": \"\",\n",
      "        \"url\": null,\n",
      "        \"mesh\": [\n",
      "\n",
      "        ],\n",
      "        \"embl_gb_record_number\": null,\n",
      "        \"sequence_position\": null,\n",
      "        \"comments\": null,\n",
      "        \"affiliations\": [\n",
      "\n",
      "        ]\n",
      "      },\n",
      "      {\n",
      "        \"authors\": [\n",
      "          \"Hove-Jensen B\",\n",
      "          \"Rosenkrantz TJ\",\n",
      "          \"Haldimann A\",\n",
      "          \"Wanner BL.\"\n",
      "        ],\n",
      "        \"title\": \"Escherichia coli phnN, encoding ribose 1,5-bisphosphokinase activity (phosphoribosyl diphosphate forming): dual role in phosphonate degradation and NAD biosynthesis pathways.\",\n",
      "        \"journal\": \"J Bacteriol 185:2793-801 (2003) DOI:10.1128/JB.185.9.2793-2801.2003\",\n",
      "        \"volume\": \"\",\n",
      "        \"issue\": \"\",\n",
      "        \"pages\": \"\",\n",
      "        \"year\": \"\",\n",
      "        \"pubmed\": \"12700258\",\n",
      "        \"medline\": \"\",\n",
      "        \"doi\": null,\n",
      "        \"abstract\": \"\",\n",
      "        \"url\": null,\n",
      "        \"mesh\": [\n",
      "\n",
      "        ],\n",
      "        \"embl_gb_record_number\": null,\n",
      "        \"sequence_position\": null,\n",
      "        \"comments\": null,\n",
      "        \"affiliations\": [\n",
      "\n",
      "        ]\n",
      "      },\n",
      "      {\n",
      "        \"authors\": [\n",
      "          \"Orita I\",\n",
      "          \"Sato T\",\n",
      "          \"Yurimoto H\",\n",
      "          \"Kato N\",\n",
      "          \"Atomi H\",\n",
      "          \"Imanaka T\",\n",
      "          \"Sakai Y\"\n",
      "        ],\n",
      "        \"title\": \"The ribulose monophosphate pathway substitutes for the missing pentose phosphate pathway in the archaeon Thermococcus kodakaraensis.\",\n",
      "        \"journal\": \"J Bacteriol 188:4698-704 (2006) DOI:10.1128/JB.00492-06\",\n",
      "        \"volume\": \"\",\n",
      "        \"issue\": \"\",\n",
      "        \"pages\": \"\",\n",
      "        \"year\": \"\",\n",
      "        \"pubmed\": \"16788179\",\n",
      "        \"medline\": \"\",\n",
      "        \"doi\": null,\n",
      "        \"abstract\": \"\",\n",
      "        \"url\": null,\n",
      "        \"mesh\": [\n",
      "\n",
      "        ],\n",
      "        \"embl_gb_record_number\": null,\n",
      "        \"sequence_position\": null,\n",
      "        \"comments\": null,\n",
      "        \"affiliations\": [\n",
      "\n",
      "        ]\n",
      "      },\n",
      "      {\n",
      "        \"authors\": [\n",
      "          \"Kato N\",\n",
      "          \"Yurimoto H\",\n",
      "          \"Thauer RK\"\n",
      "        ],\n",
      "        \"title\": \"The physiological role of the ribulose monophosphate pathway in bacteria and archaea.\",\n",
      "        \"journal\": \"Biosci Biotechnol Biochem 70:10-21 (2006) DOI:10.1271/bbb.70.10\",\n",
      "        \"volume\": \"\",\n",
      "        \"issue\": \"\",\n",
      "        \"pages\": \"\",\n",
      "        \"year\": \"\",\n",
      "        \"pubmed\": \"16428816\",\n",
      "        \"medline\": \"\",\n",
      "        \"doi\": null,\n",
      "        \"abstract\": \"\",\n",
      "        \"url\": null,\n",
      "        \"mesh\": [\n",
      "\n",
      "        ],\n",
      "        \"embl_gb_record_number\": null,\n",
      "        \"sequence_position\": null,\n",
      "        \"comments\": null,\n",
      "        \"affiliations\": [\n",
      "\n",
      "        ]\n",
      "      },\n",
      "      {\n",
      "        \"authors\": [\n",
      "          \"Kouril T\",\n",
      "          \"Wieloch P\",\n",
      "          \"Reimann J\",\n",
      "          \"Wagner M\",\n",
      "          \"Zaparty M\",\n",
      "          \"Albers SV\",\n",
      "          \"Schomburg D\",\n",
      "          \"Ruoff P\",\n",
      "          \"Siebers B\"\n",
      "        ],\n",
      "        \"title\": \"Unraveling the function of the two Entner-Doudoroff branches in the thermoacidophilic Crenarchaeon Sulfolobus solfataricus P2.\",\n",
      "        \"journal\": \"FEBS J 280:1126-38 (2013) DOI:10.1111/febs.12106\",\n",
      "        \"volume\": \"\",\n",
      "        \"issue\": \"\",\n",
      "        \"pages\": \"\",\n",
      "        \"year\": \"\",\n",
      "        \"pubmed\": \"23279921\",\n",
      "        \"medline\": \"\",\n",
      "        \"doi\": null,\n",
      "        \"abstract\": \"\",\n",
      "        \"url\": null,\n",
      "        \"mesh\": [\n",
      "\n",
      "        ],\n",
      "        \"embl_gb_record_number\": null,\n",
      "        \"sequence_position\": null,\n",
      "        \"comments\": null,\n",
      "        \"affiliations\": [\n",
      "\n",
      "        ]\n",
      "      },\n",
      "      {\n",
      "        \"authors\": [\n",
      "          \"Reher M\",\n",
      "          \"Schonheit P\"\n",
      "        ],\n",
      "        \"title\": \"Glyceraldehyde dehydrogenases from the thermoacidophilic euryarchaeota Picrophilus torridus and Thermoplasma acidophilum, key enzymes of the non-phosphorylative Entner-Doudoroff pathway, constitute a novel enzyme family within the aldehyde dehydrogenase superfamily.\",\n",
      "        \"journal\": \"FEBS Lett 580:1198-204 (2006) DOI:10.1016/j.febslet.2006.01.029\",\n",
      "        \"volume\": \"\",\n",
      "        \"issue\": \"\",\n",
      "        \"pages\": \"\",\n",
      "        \"year\": \"\",\n",
      "        \"pubmed\": \"16458304\",\n",
      "        \"medline\": \"\",\n",
      "        \"doi\": null,\n",
      "        \"abstract\": \"\",\n",
      "        \"url\": null,\n",
      "        \"mesh\": [\n",
      "\n",
      "        ],\n",
      "        \"embl_gb_record_number\": null,\n",
      "        \"sequence_position\": null,\n",
      "        \"comments\": null,\n",
      "        \"affiliations\": [\n",
      "\n",
      "        ]\n",
      "      },\n",
      "      {\n",
      "        \"authors\": [\n",
      "          \"Reher M\",\n",
      "          \"Fuhrer T\",\n",
      "          \"Bott M\",\n",
      "          \"Schonheit P\"\n",
      "        ],\n",
      "        \"title\": \"The nonphosphorylative Entner-Doudoroff pathway in the thermoacidophilic euryarchaeon Picrophilus torridus involves a novel 2-keto-3-deoxygluconate- specific aldolase.\",\n",
      "        \"journal\": \"J Bacteriol 192:964-74 (2010) DOI:10.1128/JB.01281-09\",\n",
      "        \"volume\": \"\",\n",
      "        \"issue\": \"\",\n",
      "        \"pages\": \"\",\n",
      "        \"year\": \"\",\n",
      "        \"pubmed\": \"20023024\",\n",
      "        \"medline\": \"\",\n",
      "        \"doi\": null,\n",
      "        \"abstract\": \"\",\n",
      "        \"url\": null,\n",
      "        \"mesh\": [\n",
      "\n",
      "        ],\n",
      "        \"embl_gb_record_number\": null,\n",
      "        \"sequence_position\": null,\n",
      "        \"comments\": null,\n",
      "        \"affiliations\": [\n",
      "\n",
      "        ]\n",
      "      }\n",
      "    ],\n",
      "    \"modules\": {\n",
      "      \"M00004\": \"Pentose phosphate pathway (Pentose phosphate cycle) [PATH:map00030]\",\n",
      "      \"M00005\": \"PRPP biosynthesis, ribose 5P => PRPP [PATH:map00030]\",\n",
      "      \"M00006\": \"Pentose phosphate pathway, oxidative phase, glucose 6P => ribulose 5P [PATH:map00030]\",\n",
      "      \"M00007\": \"Pentose phosphate pathway, non-oxidative phase, fructose 6P => ribose 5P [PATH:map00030]\",\n",
      "      \"M00008\": \"Entner-Doudoroff pathway, glucose-6P => glyceraldehyde-3P + pyruvate [PATH:map00030]\",\n",
      "      \"M00061\": \"D-Glucuronate degradation, D-glucuronate => pyruvate + D-glyceraldehyde 3P [PATH:map00030]\",\n",
      "      \"M00308\": \"Semi-phosphorylative Entner-Doudoroff pathway, gluconate => glycerate-3P [PATH:map00030]\",\n",
      "      \"M00309\": \"Non-phosphorylative Entner-Doudoroff pathway, gluconate/galactonate => glycerate [PATH:map00030]\",\n",
      "      \"M00345\": \"Formaldehyde assimilation, ribulose monophosphate pathway [PATH:map00030]\",\n",
      "      \"M00580\": \"Pentose phosphate pathway, archaea, fructose 6P => ribose 5P [PATH:map00030]\",\n",
      "      \"M00631\": \"D-Galacturonate degradation (bacteria), D-galacturonate => pyruvate + D-glyceraldehyde 3P [PATH:map00030]\",\n",
      "      \"M00633\": \"Semi-phosphorylative Entner-Doudoroff pathway, gluconate/galactonate => glycerate-3P [PATH:map00030]\"\n",
      "    },\n",
      "    \"organism\": \"\",\n",
      "    \"genes\": {\n",
      "    },\n",
      "    \"enzymes\": [\n",
      "\n",
      "    ],\n",
      "    \"reactions\": {\n",
      "    },\n",
      "    \"compounds\": {\n",
      "    },\n",
      "    \"rel_pathways\": {\n",
      "      \"map00010\": \"Glycolysis / Gluconeogenesis\",\n",
      "      \"map00040\": \"Pentose and glucuronate interconversions\",\n",
      "      \"map00052\": \"Galactose metabolism\",\n",
      "      \"map00230\": \"Purine metabolism\",\n",
      "      \"map00240\": \"Pyrimidine metabolism\",\n",
      "      \"map00340\": \"Histidine metabolism\"\n",
      "    },\n",
      "    \"ko_pathway\": \"ko00030\"\n",
      "  }\n",
      "]\n"
     ]
    }
   ],
   "source": [
    "req =requests.get(\"http://togows.org/entry/kegg-pathway/map00030.json\")\n",
    "print(req.text)"
   ]
  },
  {
   "cell_type": "code",
   "execution_count": 40,
   "metadata": {},
   "outputs": [
    {
     "name": "stdout",
     "output_type": "stream",
     "text": [
      "Pentose phosphate pathway\n"
     ]
    }
   ],
   "source": [
    "jsondata = json.loads(req.text)\n",
    "print(jsondata[0]['name'])"
   ]
  },
  {
   "cell_type": "code",
   "execution_count": 13,
   "metadata": {},
   "outputs": [
    {
     "name": "stdout",
     "output_type": "stream",
     "text": [
      "{'H00196': 'Phosphoribosylpyrophosphate synthetase superactivity', 'H00668': 'Anemia due to disorders of glutathione metabolism', 'H00946': 'Arts syndrome', 'H01111': 'Cortisone reductase deficiency', 'H01135': 'Ribose 5-phosphate isomerase deficiency', 'H01189': 'Transaldolase deficiency', 'H01375': 'Glucose 6-phosphate dehydrogenase deficiency', 'H01952': 'Glycogen storage disease type XII'}\n"
     ]
    }
   ],
   "source": [
    "print(jsondata[0]['diseases'])"
   ]
  },
  {
   "cell_type": "code",
   "execution_count": 42,
   "metadata": {},
   "outputs": [],
   "source": [
    "req2 = requests.get(\"http://127.0.0.1:9200\")\n"
   ]
  },
  {
   "cell_type": "code",
   "execution_count": 44,
   "metadata": {},
   "outputs": [
    {
     "name": "stdout",
     "output_type": "stream",
     "text": [
      "{\n",
      "  \"name\" : \"se8cAlp\",\n",
      "  \"cluster_name\" : \"elasticsearch\",\n",
      "  \"cluster_uuid\" : \"mlgkPjOoQDaRZe8KZ_mKkw\",\n",
      "  \"version\" : {\n",
      "    \"number\" : \"6.2.1\",\n",
      "    \"build_hash\" : \"7299dc3\",\n",
      "    \"build_date\" : \"2018-02-07T19:34:26.990113Z\",\n",
      "    \"build_snapshot\" : false,\n",
      "    \"lucene_version\" : \"7.2.1\",\n",
      "    \"minimum_wire_compatibility_version\" : \"5.6.0\",\n",
      "    \"minimum_index_compatibility_version\" : \"5.0.0\"\n",
      "  },\n",
      "  \"tagline\" : \"You Know, for Search\"\n",
      "}\n",
      "\n"
     ]
    }
   ],
   "source": [
    "print(req2.text)"
   ]
  },
  {
   "cell_type": "code",
   "execution_count": 47,
   "metadata": {},
   "outputs": [
    {
     "data": {
      "text/plain": [
       "'6.2.1'"
      ]
     },
     "execution_count": 47,
     "metadata": {},
     "output_type": "execute_result"
    }
   ],
   "source": [
    "rec = json.loads(req2.text)\n",
    "rec['version']['number']"
   ]
  },
  {
   "cell_type": "code",
   "execution_count": 0,
   "metadata": {},
   "outputs": [],
   "source": [
    "#!pip install --user pyvcf"
   ]
  },
  {
   "cell_type": "code",
   "execution_count": 48,
   "metadata": {},
   "outputs": [],
   "source": [
    "import vcf"
   ]
  },
  {
   "cell_type": "code",
   "execution_count": 49,
   "metadata": {},
   "outputs": [
    {
     "name": "stdout",
     "output_type": "stream",
     "text": [
      "sys.version_info(major=3, minor=7, micro=4, releaselevel='final', serial=0)\n"
     ]
    }
   ],
   "source": [
    "import sys\n",
    "print(sys.version_info)"
   ]
  },
  {
   "cell_type": "code",
   "execution_count": 50,
   "metadata": {},
   "outputs": [],
   "source": [
    "vcf_reader = vcf.VCFReader(open('PIK3CA.vcf'))"
   ]
  },
  {
   "cell_type": "code",
   "execution_count": 51,
   "metadata": {},
   "outputs": [
    {
     "name": "stdout",
     "output_type": "stream",
     "text": [
      "Record(CHROM=3, POS=178916581, REF=T, ALT=[C])\n",
      "Record(CHROM=3, POS=178916644, REF=T, ALT=[G])\n",
      "Record(CHROM=3, POS=178916645, REF=G, ALT=[T])\n",
      "Record(CHROM=3, POS=178916651, REF=T, ALT=[C])\n",
      "Record(CHROM=3, POS=178916931, REF=C, ALT=[A])\n",
      "Record(CHROM=3, POS=178917005, REF=A, ALT=[G])\n",
      "Record(CHROM=3, POS=178917478, REF=G, ALT=[A])\n",
      "Record(CHROM=3, POS=178919190, REF=C, ALT=[A])\n",
      "Record(CHROM=3, POS=178921407, REF=C, ALT=[T])\n",
      "Record(CHROM=3, POS=178921525, REF=T, ALT=[A])\n",
      "Record(CHROM=3, POS=178921553, REF=T, ALT=[A])\n",
      "Record(CHROM=3, POS=178922274, REF=C, ALT=[A])\n",
      "Record(CHROM=3, POS=178922277, REF=C, ALT=[T])\n",
      "Record(CHROM=3, POS=178922364, REF=G, ALT=[T])\n",
      "Record(CHROM=3, POS=178922430, REF=A, ALT=[G])\n",
      "Record(CHROM=3, POS=178927345, REF=T, ALT=[C])\n",
      "Record(CHROM=3, POS=178927401, REF=T, ALT=[A])\n",
      "Record(CHROM=3, POS=178927410, REF=A, ALT=[G])\n",
      "Record(CHROM=3, POS=178927969, REF=T, ALT=[A])\n",
      "Record(CHROM=3, POS=178928098, REF=T, ALT=[G])\n",
      "Record(CHROM=3, POS=178936082, REF=G, ALT=[A])\n",
      "Record(CHROM=3, POS=178936091, REF=G, ALT=[A])\n",
      "Record(CHROM=3, POS=178937726, REF=G, ALT=[A])\n",
      "Record(CHROM=3, POS=178937744, REF=A, ALT=[T])\n",
      "Record(CHROM=3, POS=178938747, REF=A, ALT=[T])\n",
      "Record(CHROM=3, POS=178941853, REF=CT, ALT=[C])\n",
      "Record(CHROM=3, POS=178947904, REF=G, ALT=[A])\n",
      "Record(CHROM=3, POS=178952072, REF=A, ALT=[G])\n",
      "Record(CHROM=3, POS=178952085, REF=A, ALT=[G, T])\n",
      "Record(CHROM=3, POS=178952088, REF=A, ALT=[G])\n"
     ]
    }
   ],
   "source": [
    "for rec in vcf_reader:\n",
    "    print(rec)"
   ]
  },
  {
   "cell_type": "code",
   "execution_count": 56,
   "metadata": {},
   "outputs": [
    {
     "data": {
      "text/plain": [
       "('3',\n",
       " 178916581,\n",
       " [C],\n",
       " 60.58,\n",
       " {'AC': [2],\n",
       "  'AF': [0.005495],\n",
       "  'AN': 364,\n",
       "  'ANN': ['C|5_prime_UTR_variant|MODIFIER|PIK3CA|ENSG00000121879|transcript|ENST00000263967|protein_coding|2/21|c.-33T>C|||||33|',\n",
       "   'C|5_prime_UTR_variant|MODIFIER|PIK3CA|ENSG00000121879|transcript|ENST00000477735|protein_coding|2/2|c.-33T>C|||||33|WARNING_TRANSCRIPT_NO_STOP_CODON',\n",
       "   'C|5_prime_UTR_variant|MODIFIER|PIK3CA|ENSG00000121879|transcript|ENST00000468036|protein_coding|2/2|c.-33T>C|||||33|WARNING_TRANSCRIPT_NO_STOP_CODON'],\n",
       "  'BaseQRankSum': 1.83,\n",
       "  'ClippingRankSum': -0.537,\n",
       "  'DP': 2345,\n",
       "  'FS': 2.769,\n",
       "  'InbreedingCoeff': -0.0604,\n",
       "  'MLEAC': [2],\n",
       "  'MLEAF': [0.005495],\n",
       "  'MQ': 37.0,\n",
       "  'MQRankSum': -0.107,\n",
       "  'QD': 3.79,\n",
       "  'ReadPosRankSum': 1.03,\n",
       "  'SOR': 1.609})"
      ]
     },
     "execution_count": 56,
     "metadata": {},
     "output_type": "execute_result"
    }
   ],
   "source": [
    "vcf_reader = vcf.VCFReader(open('PIK3CA.vcf'))\n",
    "rec = next(vcf_reader)\n",
    "rec.CHROM,rec.POS,rec.ALT,rec.QUAL,rec.INFO"
   ]
  },
  {
   "cell_type": "code",
   "execution_count": 60,
   "metadata": {},
   "outputs": [
    {
     "data": {
      "text/plain": [
       "[0.005495]"
      ]
     },
     "execution_count": 60,
     "metadata": {},
     "output_type": "execute_result"
    }
   ],
   "source": [
    "rec.INFO[\"AF\"]"
   ]
  },
  {
   "cell_type": "code",
   "execution_count": 66,
   "metadata": {},
   "outputs": [
    {
     "data": {
      "text/plain": [
       "['C',\n",
       " '5_prime_UTR_variant',\n",
       " 'MODIFIER',\n",
       " 'PIK3CA',\n",
       " 'ENSG00000121879',\n",
       " 'transcript',\n",
       " 'ENST00000263967',\n",
       " 'protein_coding',\n",
       " '2/21',\n",
       " 'c.-33T>C',\n",
       " '',\n",
       " '',\n",
       " '',\n",
       " '',\n",
       " '33',\n",
       " '']"
      ]
     },
     "execution_count": 66,
     "metadata": {},
     "output_type": "execute_result"
    }
   ],
   "source": [
    "s = rec.INFO[\"ANN\"][0]\n",
    "s.split(\"|\")"
   ]
  },
  {
   "cell_type": "code",
   "execution_count": 0,
   "metadata": {},
   "outputs": [],
   "source": [
    "# No need to install !pip install --user elasticsearch"
   ]
  },
  {
   "cell_type": "code",
   "execution_count": 0,
   "metadata": {},
   "outputs": [],
   "source": []
  },
  {
   "cell_type": "code",
   "execution_count": 2,
   "metadata": {},
   "outputs": [],
   "source": [
    "from datetime import datetime\n",
    "from elasticsearch import Elasticsearch\n",
    "es = Elasticsearch()"
   ]
  },
  {
   "cell_type": "code",
   "execution_count": 69,
   "metadata": {},
   "outputs": [],
   "source": [
    "rec1={\"Name\":\"Bert\",\"Pet\":[\"Fishy\"],\"Adress\":\"Groningen\"}\n",
    "rec2={\"Name\":\"Herman\",\"Pet\":[\"Vinky\"],\"Adress\":\"Assen\"}\n",
    "rec3={\"Name\":\"Pia\",\"Pet\":[\"Mittens\",\"Snuggles\"],\"Adress\":\"USA\"}"
   ]
  },
  {
   "cell_type": "code",
   "execution_count": 70,
   "metadata": {},
   "outputs": [
    {
     "data": {
      "text/plain": [
       "<Elasticsearch([{}])>"
      ]
     },
     "execution_count": 70,
     "metadata": {},
     "output_type": "execute_result"
    }
   ],
   "source": [
    "es"
   ]
  },
  {
   "cell_type": "code",
   "execution_count": 74,
   "metadata": {},
   "outputs": [
    {
     "data": {
      "text/plain": [
       "{'_index': 'comic_pj',\n",
       " '_type': 'rec',\n",
       " '_id': 'lKgrqG8B-fd77gPi4Iic',\n",
       " '_version': 1,\n",
       " 'result': 'created',\n",
       " '_shards': {'total': 2, 'successful': 1, 'failed': 0},\n",
       " '_seq_no': 1,\n",
       " '_primary_term': 1}"
      ]
     },
     "execution_count": 74,
     "metadata": {},
     "output_type": "execute_result"
    }
   ],
   "source": [
    "es.index(index='comic_pj', doc_type='rec', body={\"1\":rec1,\"2\":rec2,\"3\":rec3})"
   ]
  },
  {
   "cell_type": "code",
   "execution_count": 75,
   "metadata": {},
   "outputs": [
    {
     "name": "stdout",
     "output_type": "stream",
     "text": [
      "{'_index': 'test-index', '_type': 'tweet', '_id': '1', '_version': 2, 'result': 'updated', '_shards': {'total': 2, 'successful': 1, 'failed': 0}, '_seq_no': 1, '_primary_term': 1}\n"
     ]
    }
   ],
   "source": [
    "es.search(index='test-index', q='author:kimchy')"
   ]
  },
  {
   "cell_type": "code",
   "execution_count": 100,
   "metadata": {},
   "outputs": [
    {
     "data": {
      "text/plain": [
       "{'_index': 'test-index',\n",
       " '_type': 'tweet',\n",
       " '_id': 'l6g7qG8B-fd77gPiwog4',\n",
       " '_version': 1,\n",
       " 'result': 'created',\n",
       " '_shards': {'total': 2, 'successful': 1, 'failed': 0},\n",
       " '_seq_no': 0,\n",
       " '_primary_term': 1}"
      ]
     },
     "execution_count": 100,
     "metadata": {},
     "output_type": "execute_result"
    }
   ],
   "source": [
    "doc = { \"test\": { \"author\": \"sammy\"}}\n",
    "es.index(index='test-index', doc_type='tweet', body=doc)"
   ]
  },
  {
   "cell_type": "code",
   "execution_count": 78,
   "metadata": {},
   "outputs": [
    {
     "data": {
      "text/plain": [
       "{'took': 3,\n",
       " 'timed_out': False,\n",
       " '_shards': {'total': 5, 'successful': 5, 'skipped': 0, 'failed': 0},\n",
       " 'hits': {'total': 1,\n",
       "  'max_score': 1.0,\n",
       "  'hits': [{'_index': 'test-index',\n",
       "    '_type': 'tweet',\n",
       "    '_id': '1',\n",
       "    '_score': 1.0,\n",
       "    '_source': {'author': 'kimchy',\n",
       "     'text': 'Elasticsearch: cool. bonsai cool.',\n",
       "     'timestamp': '2020-01-15T10:48:03.985024'}}]}}"
      ]
     },
     "execution_count": 78,
     "metadata": {},
     "output_type": "execute_result"
    }
   ],
   "source": [
    "es.search(index='test-index')"
   ]
  },
  {
   "cell_type": "code",
   "execution_count": 27,
   "metadata": {},
   "outputs": [
    {
     "data": {
      "text/plain": [
       "{'hits': {'hits': [{'_type': 'tweet',\n",
       "    '_id': '1',\n",
       "    '_source': {'author': 'kimchy',\n",
       "     'text': 'Elasticsearch: cool. bonsai cool.',\n",
       "     'timestamp': '2020-01-14T17:33:26.244472'}}]}}"
      ]
     },
     "execution_count": 27,
     "metadata": {},
     "output_type": "execute_result"
    }
   ],
   "source": [
    "es.search(index='test-index', filter_path=['hits.hits._id', 'hits.hits._type', 'hits.hits._source'])\n"
   ]
  },
  {
   "cell_type": "code",
   "execution_count": 28,
   "metadata": {},
   "outputs": [
    {
     "data": {
      "text/plain": [
       "{'hits': {'hits': [{'_source': {'author': 'kimchy'}}]}}"
      ]
     },
     "execution_count": 28,
     "metadata": {},
     "output_type": "execute_result"
    }
   ],
   "source": [
    "es.search(index='test-index', filter_path=['hits.hits._source.author'])"
   ]
  },
  {
   "cell_type": "code",
   "execution_count": 30,
   "metadata": {
    "scrolled": true
   },
   "outputs": [
    {
     "data": {
      "text/plain": [
       "{'took': 3,\n",
       " 'timed_out': False,\n",
       " '_shards': {'total': 5, 'successful': 5, 'skipped': 0, 'failed': 0},\n",
       " 'hits': {'total': 1,\n",
       "  'max_score': 1.0,\n",
       "  'hits': [{'_index': 'test-index',\n",
       "    '_type': 'tweet',\n",
       "    '_id': '1',\n",
       "    '_score': 1.0,\n",
       "    '_source': {'author': 'kimchy',\n",
       "     'text': 'Elasticsearch: cool. bonsai cool.',\n",
       "     'timestamp': '2020-01-14T17:33:26.244472'}}]}}"
      ]
     },
     "execution_count": 30,
     "metadata": {},
     "output_type": "execute_result"
    }
   ],
   "source": [
    "es.search(index='test-index', q='_type:tweet')"
   ]
  },
  {
   "cell_type": "markdown",
   "metadata": {},
   "source": [
    "See lucene searches http://www.lucenetutorial.com/lucene-query-syntax.html"
   ]
  },
  {
   "cell_type": "code",
   "execution_count": 81,
   "metadata": {
    "scrolled": true
   },
   "outputs": [
    {
     "data": {
      "text/plain": [
       "{'took': 3,\n",
       " 'timed_out': False,\n",
       " '_shards': {'total': 5, 'successful': 5, 'skipped': 0, 'failed': 0},\n",
       " 'hits': {'total': 1,\n",
       "  'max_score': 0.2876821,\n",
       "  'hits': [{'_index': 'test-index',\n",
       "    '_type': 'tweet',\n",
       "    '_id': '1',\n",
       "    '_score': 0.2876821,\n",
       "    '_source': {'author': 'kimchy',\n",
       "     'text': 'Elasticsearch: cool. bonsai cool.',\n",
       "     'timestamp': '2020-01-15T10:48:03.985024'}}]}}"
      ]
     },
     "execution_count": 81,
     "metadata": {},
     "output_type": "execute_result"
    }
   ],
   "source": [
    "es.search(index='test-index', q='author:kimchy')"
   ]
  },
  {
   "cell_type": "code",
   "execution_count": 101,
   "metadata": {
    "scrolled": true
   },
   "outputs": [
    {
     "data": {
      "text/plain": [
       "{'took': 3,\n",
       " 'timed_out': False,\n",
       " '_shards': {'total': 5, 'successful': 5, 'skipped': 0, 'failed': 0},\n",
       " 'hits': {'total': 2,\n",
       "  'max_score': 1.0,\n",
       "  'hits': [{'_index': 'test-index',\n",
       "    '_type': 'tweet',\n",
       "    '_id': 'l6g7qG8B-fd77gPiwog4',\n",
       "    '_score': 1.0,\n",
       "    '_source': {'test': {'author': 'sammy'}}},\n",
       "   {'_index': 'test-index',\n",
       "    '_type': 'tweet',\n",
       "    '_id': '1',\n",
       "    '_score': 1.0,\n",
       "    '_source': {'author': 'kimchy',\n",
       "     'text': 'Elasticsearch: cool. bonsai cool.',\n",
       "     'timestamp': '2020-01-15T11:04:30.056929'}}]}}"
      ]
     },
     "execution_count": 101,
     "metadata": {},
     "output_type": "execute_result"
    }
   ],
   "source": [
    "es.search(index='test-index')"
   ]
  },
  {
   "cell_type": "code",
   "execution_count": 92,
   "metadata": {
    "scrolled": true
   },
   "outputs": [
    {
     "data": {
      "text/plain": [
       "{'took': 4,\n",
       " 'timed_out': False,\n",
       " '_shards': {'total': 5, 'successful': 5, 'skipped': 0, 'failed': 0},\n",
       " 'hits': {'total': 0, 'max_score': None, 'hits': []}}"
      ]
     },
     "execution_count": 92,
     "metadata": {},
     "output_type": "execute_result"
    }
   ],
   "source": [
    "es.search(index='comic_pj',q=\"_score:1.0\")"
   ]
  },
  {
   "cell_type": "code",
   "execution_count": 107,
   "metadata": {
    "scrolled": true
   },
   "outputs": [
    {
     "data": {
      "text/plain": [
       "{'took': 4,\n",
       " 'timed_out': False,\n",
       " '_shards': {'total': 5, 'successful': 5, 'skipped': 0, 'failed': 0},\n",
       " 'hits': {'total': 0, 'max_score': None, 'hits': []}}"
      ]
     },
     "execution_count": 107,
     "metadata": {},
     "output_type": "execute_result"
    }
   ],
   "source": [
    "es.search(index='test-index', q='+author:s*')"
   ]
  },
  {
   "cell_type": "code",
   "execution_count": 4,
   "metadata": {},
   "outputs": [
    {
     "data": {
      "text/plain": [
       "{'took': 1,\n",
       " 'timed_out': False,\n",
       " '_shards': {'total': 5, 'successful': 5, 'skipped': 0, 'failed': 0},\n",
       " 'hits': {'total': 2,\n",
       "  'max_score': 1.0,\n",
       "  'hits': [{'_index': 'test-index',\n",
       "    '_type': 'tweet',\n",
       "    '_id': 'l6g7qG8B-fd77gPiwog4',\n",
       "    '_score': 1.0,\n",
       "    '_source': {'test': {'author': 'sammy'}}},\n",
       "   {'_index': 'test-index',\n",
       "    '_type': 'tweet',\n",
       "    '_id': '1',\n",
       "    '_score': 1.0,\n",
       "    '_source': {'author': 'kimchy',\n",
       "     'text': 'Elasticsearch: cool. bonsai cool.',\n",
       "     'timestamp': '2020-01-15T11:04:30.056929'}}]}}"
      ]
     },
     "execution_count": 4,
     "metadata": {},
     "output_type": "execute_result"
    }
   ],
   "source": [
    " es.search(index=\"test-index\", body = {\"query\": {\"match_all\": {}}})"
   ]
  },
  {
   "cell_type": "code",
   "execution_count": 4,
   "metadata": {
    "scrolled": true
   },
   "outputs": [
    {
     "data": {
      "text/plain": [
       "{'took': 1,\n",
       " 'timed_out': False,\n",
       " '_shards': {'total': 5, 'successful': 5, 'skipped': 0, 'failed': 0},\n",
       " 'hits': {'total': 2,\n",
       "  'max_score': 1.0,\n",
       "  'hits': [{'_index': 'test-index',\n",
       "    '_type': 'tweet',\n",
       "    '_id': 'l6g7qG8B-fd77gPiwog4',\n",
       "    '_score': 1.0,\n",
       "    '_source': {'test': {'author': 'sammy'}}},\n",
       "   {'_index': 'test-index',\n",
       "    '_type': 'tweet',\n",
       "    '_id': '1',\n",
       "    '_score': 1.0,\n",
       "    '_source': {'author': 'kimchy',\n",
       "     'text': 'Elasticsearch: cool. bonsai cool.',\n",
       "     'timestamp': '2020-01-15T11:04:30.056929'}}]}}"
      ]
     },
     "execution_count": 4,
     "metadata": {},
     "output_type": "execute_result"
    }
   ],
   "source": [
    " es.search(index=\"test-index\", body = {\"query\": {\"match_all\": {p}}})"
   ]
  },
  {
   "cell_type": "code",
   "execution_count": 9,
   "metadata": {},
   "outputs": [
    {
     "name": "stdout",
     "output_type": "stream",
     "text": [
      "{'took': 2, 'timed_out': False, '_shards': {'total': 5, 'successful': 5, 'skipped': 0, 'failed': 0}, 'hits': {'total': 1, 'max_score': 0.2876821, 'hits': [{'_index': 'test-index', '_type': 'tweet', '_id': '1', '_score': 0.2876821, '_source': {'author': 'kimchy', 'text': 'Elasticsearch: cool. bonsai cool.', 'timestamp': '2020-01-15T11:04:30.056929'}}]}}\n"
     ]
    }
   ],
   "source": [
    "print(es.search(index=\"test-index\", body={\"query\": {\"match\": { 'author': 'kimchy' } }}))"
   ]
  },
  {
   "cell_type": "code",
   "execution_count": 19,
   "metadata": {},
   "outputs": [
    {
     "data": {
      "text/plain": [
       "{'took': 5,\n",
       " 'timed_out': False,\n",
       " '_shards': {'total': 5, 'successful': 5, 'skipped': 0, 'failed': 0},\n",
       " 'hits': {'total': 1,\n",
       "  'max_score': 0.2876821,\n",
       "  'hits': [{'_index': 'test-index',\n",
       "    '_type': 'tweet',\n",
       "    '_id': 'l6g7qG8B-fd77gPiwog4',\n",
       "    '_score': 0.2876821,\n",
       "    '_source': {'test': {'author': 'sammy'}}}]}}"
      ]
     },
     "execution_count": 19,
     "metadata": {},
     "output_type": "execute_result"
    }
   ],
   "source": [
    "es.search(index=\"test-index\", q='sammy')"
   ]
  },
  {
   "cell_type": "code",
   "execution_count": 17,
   "metadata": {},
   "outputs": [
    {
     "data": {
      "text/plain": [
       "{'hits': {'hits': [{'_source': {'test': {'author': 'sammy'}}}]}}"
      ]
     },
     "execution_count": 17,
     "metadata": {},
     "output_type": "execute_result"
    }
   ],
   "source": [
    "es.search(index=\"test-index\", q='sammy', filter_path=['hits.hits._source.test'])"
   ]
  },
  {
   "cell_type": "code",
   "execution_count": 32,
   "metadata": {},
   "outputs": [
    {
     "data": {
      "text/plain": [
       "{'took': 3,\n",
       " 'timed_out': False,\n",
       " '_shards': {'total': 5, 'successful': 5, 'skipped': 0, 'failed': 0},\n",
       " 'hits': {'total': 1,\n",
       "  'max_score': 1.0,\n",
       "  'hits': [{'_index': 'test-index',\n",
       "    '_type': 'tweet',\n",
       "    '_id': '1',\n",
       "    '_score': 1.0,\n",
       "    '_source': {'author': 'kimchy',\n",
       "     'text': 'Elasticsearch: cool. bonsai cool.',\n",
       "     'timestamp': '2020-01-15T11:04:30.056929'}}]}}"
      ]
     },
     "execution_count": 32,
     "metadata": {},
     "output_type": "execute_result"
    }
   ],
   "source": [
    "es.search(index=\"test-index\", body = \n",
    "          {\"query\" : {\n",
    "             \"wildcard\" : {\n",
    "                \"author\": \"*\"}\n",
    "            }\n",
    "    })"
   ]
  },
  {
   "cell_type": "code",
   "execution_count": 46,
   "metadata": {
    "scrolled": true
   },
   "outputs": [
    {
     "ename": "RequestError",
     "evalue": "RequestError(400, 'parsing_exception', '[nested] query does not support [match]')",
     "output_type": "error",
     "traceback": [
      "\u001b[0;31m---------------------------------------------------------------------------\u001b[0m",
      "\u001b[0;31mRequestError\u001b[0m                              Traceback (most recent call last)",
      "\u001b[0;32m<ipython-input-46-c413894613c3>\u001b[0m in \u001b[0;36m<module>\u001b[0;34m\u001b[0m\n\u001b[1;32m      3\u001b[0m               \"nested\" : {\n\u001b[1;32m      4\u001b[0m                   \"match\" : {\n\u001b[0;32m----> 5\u001b[0;31m                    \u001b[0;34m\"author\"\u001b[0m \u001b[0;34m:\u001b[0m \u001b[0;34m\"kimchy\"\u001b[0m\u001b[0;34m\u001b[0m\u001b[0;34m\u001b[0m\u001b[0m\n\u001b[0m\u001b[1;32m      6\u001b[0m             }}}}\n\u001b[1;32m      7\u001b[0m     )\n",
      "\u001b[0;32m/usr/local/guix-profiles/jupyter/lib/python3.7/site-packages/elasticsearch/client/utils.py\u001b[0m in \u001b[0;36m_wrapped\u001b[0;34m(*args, **kwargs)\u001b[0m\n\u001b[1;32m     82\u001b[0m                 \u001b[0;32mif\u001b[0m \u001b[0mp\u001b[0m \u001b[0;32min\u001b[0m \u001b[0mkwargs\u001b[0m\u001b[0;34m:\u001b[0m\u001b[0;34m\u001b[0m\u001b[0;34m\u001b[0m\u001b[0m\n\u001b[1;32m     83\u001b[0m                     \u001b[0mparams\u001b[0m\u001b[0;34m[\u001b[0m\u001b[0mp\u001b[0m\u001b[0;34m]\u001b[0m \u001b[0;34m=\u001b[0m \u001b[0mkwargs\u001b[0m\u001b[0;34m.\u001b[0m\u001b[0mpop\u001b[0m\u001b[0;34m(\u001b[0m\u001b[0mp\u001b[0m\u001b[0;34m)\u001b[0m\u001b[0;34m\u001b[0m\u001b[0;34m\u001b[0m\u001b[0m\n\u001b[0;32m---> 84\u001b[0;31m             \u001b[0;32mreturn\u001b[0m \u001b[0mfunc\u001b[0m\u001b[0;34m(\u001b[0m\u001b[0;34m*\u001b[0m\u001b[0margs\u001b[0m\u001b[0;34m,\u001b[0m \u001b[0mparams\u001b[0m\u001b[0;34m=\u001b[0m\u001b[0mparams\u001b[0m\u001b[0;34m,\u001b[0m \u001b[0;34m**\u001b[0m\u001b[0mkwargs\u001b[0m\u001b[0;34m)\u001b[0m\u001b[0;34m\u001b[0m\u001b[0;34m\u001b[0m\u001b[0m\n\u001b[0m\u001b[1;32m     85\u001b[0m \u001b[0;34m\u001b[0m\u001b[0m\n\u001b[1;32m     86\u001b[0m         \u001b[0;32mreturn\u001b[0m \u001b[0m_wrapped\u001b[0m\u001b[0;34m\u001b[0m\u001b[0;34m\u001b[0m\u001b[0m\n",
      "\u001b[0;32m/usr/local/guix-profiles/jupyter/lib/python3.7/site-packages/elasticsearch/client/__init__.py\u001b[0m in \u001b[0;36msearch\u001b[0;34m(self, index, body, params)\u001b[0m\n\u001b[1;32m    809\u001b[0m             \u001b[0mindex\u001b[0m \u001b[0;34m=\u001b[0m \u001b[0;34m\"_all\"\u001b[0m\u001b[0;34m\u001b[0m\u001b[0;34m\u001b[0m\u001b[0m\n\u001b[1;32m    810\u001b[0m         return self.transport.perform_request(\n\u001b[0;32m--> 811\u001b[0;31m             \u001b[0;34m\"GET\"\u001b[0m\u001b[0;34m,\u001b[0m \u001b[0m_make_path\u001b[0m\u001b[0;34m(\u001b[0m\u001b[0mindex\u001b[0m\u001b[0;34m,\u001b[0m \u001b[0;34m\"_search\"\u001b[0m\u001b[0;34m)\u001b[0m\u001b[0;34m,\u001b[0m \u001b[0mparams\u001b[0m\u001b[0;34m=\u001b[0m\u001b[0mparams\u001b[0m\u001b[0;34m,\u001b[0m \u001b[0mbody\u001b[0m\u001b[0;34m=\u001b[0m\u001b[0mbody\u001b[0m\u001b[0;34m\u001b[0m\u001b[0;34m\u001b[0m\u001b[0m\n\u001b[0m\u001b[1;32m    812\u001b[0m         )\n\u001b[1;32m    813\u001b[0m \u001b[0;34m\u001b[0m\u001b[0m\n",
      "\u001b[0;32m/usr/local/guix-profiles/jupyter/lib/python3.7/site-packages/elasticsearch/transport.py\u001b[0m in \u001b[0;36mperform_request\u001b[0;34m(self, method, url, headers, params, body)\u001b[0m\n\u001b[1;32m    356\u001b[0m                     \u001b[0mheaders\u001b[0m\u001b[0;34m=\u001b[0m\u001b[0mheaders\u001b[0m\u001b[0;34m,\u001b[0m\u001b[0;34m\u001b[0m\u001b[0;34m\u001b[0m\u001b[0m\n\u001b[1;32m    357\u001b[0m                     \u001b[0mignore\u001b[0m\u001b[0;34m=\u001b[0m\u001b[0mignore\u001b[0m\u001b[0;34m,\u001b[0m\u001b[0;34m\u001b[0m\u001b[0;34m\u001b[0m\u001b[0m\n\u001b[0;32m--> 358\u001b[0;31m                     \u001b[0mtimeout\u001b[0m\u001b[0;34m=\u001b[0m\u001b[0mtimeout\u001b[0m\u001b[0;34m,\u001b[0m\u001b[0;34m\u001b[0m\u001b[0;34m\u001b[0m\u001b[0m\n\u001b[0m\u001b[1;32m    359\u001b[0m                 )\n\u001b[1;32m    360\u001b[0m \u001b[0;34m\u001b[0m\u001b[0m\n",
      "\u001b[0;32m/usr/local/guix-profiles/jupyter/lib/python3.7/site-packages/elasticsearch/connection/http_urllib3.py\u001b[0m in \u001b[0;36mperform_request\u001b[0;34m(self, method, url, params, body, timeout, ignore, headers)\u001b[0m\n\u001b[1;32m    255\u001b[0m                 \u001b[0mmethod\u001b[0m\u001b[0;34m,\u001b[0m \u001b[0mfull_url\u001b[0m\u001b[0;34m,\u001b[0m \u001b[0murl\u001b[0m\u001b[0;34m,\u001b[0m \u001b[0mbody\u001b[0m\u001b[0;34m,\u001b[0m \u001b[0mduration\u001b[0m\u001b[0;34m,\u001b[0m \u001b[0mresponse\u001b[0m\u001b[0;34m.\u001b[0m\u001b[0mstatus\u001b[0m\u001b[0;34m,\u001b[0m \u001b[0mraw_data\u001b[0m\u001b[0;34m\u001b[0m\u001b[0;34m\u001b[0m\u001b[0m\n\u001b[1;32m    256\u001b[0m             )\n\u001b[0;32m--> 257\u001b[0;31m             \u001b[0mself\u001b[0m\u001b[0;34m.\u001b[0m\u001b[0m_raise_error\u001b[0m\u001b[0;34m(\u001b[0m\u001b[0mresponse\u001b[0m\u001b[0;34m.\u001b[0m\u001b[0mstatus\u001b[0m\u001b[0;34m,\u001b[0m \u001b[0mraw_data\u001b[0m\u001b[0;34m)\u001b[0m\u001b[0;34m\u001b[0m\u001b[0;34m\u001b[0m\u001b[0m\n\u001b[0m\u001b[1;32m    258\u001b[0m \u001b[0;34m\u001b[0m\u001b[0m\n\u001b[1;32m    259\u001b[0m         self.log_request_success(\n",
      "\u001b[0;32m/usr/local/guix-profiles/jupyter/lib/python3.7/site-packages/elasticsearch/connection/base.py\u001b[0m in \u001b[0;36m_raise_error\u001b[0;34m(self, status_code, raw_data)\u001b[0m\n\u001b[1;32m    180\u001b[0m \u001b[0;34m\u001b[0m\u001b[0m\n\u001b[1;32m    181\u001b[0m         raise HTTP_EXCEPTIONS.get(status_code, TransportError)(\n\u001b[0;32m--> 182\u001b[0;31m             \u001b[0mstatus_code\u001b[0m\u001b[0;34m,\u001b[0m \u001b[0merror_message\u001b[0m\u001b[0;34m,\u001b[0m \u001b[0madditional_info\u001b[0m\u001b[0;34m\u001b[0m\u001b[0;34m\u001b[0m\u001b[0m\n\u001b[0m\u001b[1;32m    183\u001b[0m         )\n\u001b[1;32m    184\u001b[0m \u001b[0;34m\u001b[0m\u001b[0m\n",
      "\u001b[0;31mRequestError\u001b[0m: RequestError(400, 'parsing_exception', '[nested] query does not support [match]')"
     ]
    }
   ],
   "source": [
    "es.search(index=\"test-index\", body = \n",
    "          {\"query\" : {\n",
    "              \"nested\" : {\n",
    "                  \"match\" : {\n",
    "                   \"author\" : \"kimchy\"\n",
    "            }}}}\n",
    "    )"
   ]
  },
  {
   "cell_type": "markdown",
   "metadata": {},
   "source": [
    "See also https://dzone.com/articles/23-useful-elasticsearch-example-queries"
   ]
  }
 ],
 "metadata": {
  "kernelspec": {
   "display_name": "Python 3",
   "language": "/gnu/store/m4kgg8z52kn6xspmd3brvivd129d4i3s-python-wrapper-3.7.4/bin/python",
   "name": "python3"
  },
  "language_info": {
   "codemirror_mode": {
    "name": "ipython",
    "version": 3
   },
   "file_extension": ".py",
   "mimetype": "text/x-python",
   "name": "python",
   "nbconvert_exporter": "python",
   "pygments_lexer": "ipython3",
   "version": "3.7.4"
  }
 },
 "nbformat": 4,
 "nbformat_minor": 1
}
