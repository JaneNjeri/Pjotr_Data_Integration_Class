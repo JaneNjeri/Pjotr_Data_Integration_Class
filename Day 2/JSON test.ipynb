{
 "cells": [
  {
   "cell_type": "code",
   "execution_count": 26,
   "metadata": {},
   "outputs": [],
   "source": [
    "import json"
   ]
  },
  {
   "cell_type": "code",
   "execution_count": 27,
   "metadata": {},
   "outputs": [],
   "source": [
    "record = {\n",
    "  \"chr\": \"3\",\n",
    "  \"pos\": 178916581,\n",
    "  \"id\":  \".\",\n",
    "  \"ref\": \"T\",\n",
    "  \"alt\": \"C\",\n",
    "  \"qual\": 60.58,\n",
    "  \"info\": {\n",
    "    \"AC\": 2,\n",
    "    \"AF\": 5.495e-03,\n",
    "    \"AN\": 364,\n",
    "    \"ANN\": [ \"C\", \"5_prime_UTR_variant\", \n",
    "            \"MODIFIER\", \"PIK3CA\", \"ENSG00000121879\" ]\n",
    "  }\n",
    "}"
   ]
  },
  {
   "cell_type": "code",
   "execution_count": 28,
   "metadata": {
    "scrolled": true
   },
   "outputs": [
    {
     "name": "stdout",
     "output_type": "stream",
     "text": [
      "{'chr': '3', 'pos': 178916581, 'id': '.', 'ref': 'T', 'alt': 'C', 'qual': 60.58, 'info': {'AC': 2, 'AF': 0.005495, 'AN': 364, 'ANN': ['C', '5_prime_UTR_variant', 'MODIFIER', 'PIK3CA', 'ENSG00000121879']}}\n"
     ]
    }
   ],
   "source": [
    "print(record)"
   ]
  },
  {
   "cell_type": "code",
   "execution_count": 29,
   "metadata": {},
   "outputs": [
    {
     "data": {
      "text/plain": [
       "'{\"chr\": \"3\", \"pos\": 178916581, \"id\": \".\", \"ref\": \"T\", \"alt\": \"C\", \"qual\": 60.58, \"info\": {\"AC\": 2, \"AF\": 0.005495, \"AN\": 364, \"ANN\": [\"C\", \"5_prime_UTR_variant\", \"MODIFIER\", \"PIK3CA\", \"ENSG00000121879\"]}}'"
      ]
     },
     "execution_count": 29,
     "metadata": {},
     "output_type": "execute_result"
    }
   ],
   "source": [
    "d = json.dumps(record)\n",
    "d"
   ]
  },
  {
   "cell_type": "code",
   "execution_count": 30,
   "metadata": {},
   "outputs": [
    {
     "data": {
      "text/plain": [
       "{'chr': '3',\n",
       " 'pos': 178916581,\n",
       " 'id': '.',\n",
       " 'ref': 'T',\n",
       " 'alt': 'C',\n",
       " 'qual': 60.58,\n",
       " 'info': {'AC': 2,\n",
       "  'AF': 0.005495,\n",
       "  'AN': 364,\n",
       "  'ANN': ['C',\n",
       "   '5_prime_UTR_variant',\n",
       "   'MODIFIER',\n",
       "   'PIK3CA',\n",
       "   'ENSG00000121879']}}"
      ]
     },
     "execution_count": 30,
     "metadata": {},
     "output_type": "execute_result"
    }
   ],
   "source": [
    "json.loads(d)"
   ]
  },
  {
   "cell_type": "code",
   "execution_count": 21,
   "metadata": {},
   "outputs": [
    {
     "data": {
      "text/plain": [
       "{'name': 'tommy'}"
      ]
     },
     "execution_count": 21,
     "metadata": {},
     "output_type": "execute_result"
    }
   ],
   "source": [
    "d = json.loads(\"\"\"\n",
    "{\"name\":\"tommy\"}\n",
    "\"\"\")\n",
    "d"
   ]
  },
  {
   "cell_type": "code",
   "execution_count": null,
   "metadata": {},
   "outputs": [],
   "source": []
  }
 ],
 "metadata": {
  "kernelspec": {
   "display_name": "Python 3",
   "language": "/gnu/store/m4kgg8z52kn6xspmd3brvivd129d4i3s-python-wrapper-3.7.4/bin/python",
   "name": "python3"
  },
  "language_info": {
   "codemirror_mode": {
    "name": "ipython",
    "version": 3
   },
   "file_extension": ".py",
   "mimetype": "text/x-python",
   "name": "python",
   "nbconvert_exporter": "python",
   "pygments_lexer": "ipython3",
   "version": "3.7.4"
  }
 },
 "nbformat": 4,
 "nbformat_minor": 2
}
